{
 "cells": [
  {
   "cell_type": "markdown",
   "metadata": {},
   "source": [
    "### Import"
   ]
  },
  {
   "cell_type": "code",
   "execution_count": null,
   "metadata": {},
   "outputs": [],
   "source": [
    "import pandas as pd\n",
    "import numpy as np\n",
    "import random\n",
    "import os\n",
    "\n",
    "from sklearn.linear_model import LogisticRegression"
   ]
  },
  {
   "cell_type": "code",
   "execution_count": 2,
   "metadata": {},
   "outputs": [],
   "source": [
    "def seed_everything(seed):\n",
    "    random.seed(seed)\n",
    "    os.environ['PYTHONHASHSEED'] = str(seed)\n",
    "    np.random.seed(seed)\n",
    "\n",
    "seed_everything(42)"
   ]
  },
  {
   "cell_type": "code",
   "execution_count": 3,
   "metadata": {},
   "outputs": [],
   "source": [
    "train = pd.read_csv('train.csv')\n",
    "test = pd.read_csv('test.csv')"
   ]
  },
  {
   "cell_type": "markdown",
   "metadata": {},
   "source": [
    "### Data Preprocessing 1 : Time Split"
   ]
  },
  {
   "cell_type": "code",
   "execution_count": 4,
   "metadata": {},
   "outputs": [],
   "source": [
    "train['year'] = train['date'].apply(lambda x : int(x[0:4]))\n",
    "train['month'] = train['date'].apply(lambda x : int(x[5:7]))\n",
    "train['day'] = train['date'].apply(lambda x : int(x[8:10]))\n",
    "train.drop(columns=['date'], inplace=True)"
   ]
  },
  {
   "cell_type": "code",
   "execution_count": 5,
   "metadata": {},
   "outputs": [],
   "source": [
    "test['year'] = test['date'].apply(lambda x : int(x[0:4]))\n",
    "test['month'] = test['date'].apply(lambda x : int(x[5:7]))\n",
    "test['day'] = test['date'].apply(lambda x : int(x[8:10]))\n",
    "test.drop(columns=['date'], inplace=True)"
   ]
  },
  {
   "cell_type": "markdown",
   "metadata": {},
   "source": [
    "### Data Preprocessing 2 : Create Future Stats"
   ]
  },
  {
   "cell_type": "code",
   "execution_count": 6,
   "metadata": {},
   "outputs": [],
   "source": [
    "stats_columns = [\n",
    "'halfTimeGoals(homeTeam)',\n",
    "'halfTimeGoals(awayTeam)',\n",
    "'shots(homeTeam)',\n",
    "'shots(awayTeam)',\n",
    "'shotsOnTarget(homeTeam)',\n",
    "'shotsOnTarget(awayTeam)',\n",
    "'corners(homeTeam)',\n",
    "'corners(awayTeam)',\n",
    "'fouls(homeTeam)',\n",
    "'fouls(awayTeam)',\n",
    "'yellowCards(homeTeam)',\n",
    "'yellowCards(awayTeam)',\n",
    "'redCards(homeTeam)',\n",
    "'redCards(awayTeam)'\n",
    "]"
   ]
  },
  {
   "cell_type": "code",
   "execution_count": 7,
   "metadata": {},
   "outputs": [],
   "source": [
    "train['match'] = train['homeTeam'] + '-' + train['awayTeam']\n",
    "pair_stats = train.groupby('match')[stats_columns].mean().reset_index() # match mean"
   ]
  },
  {
   "cell_type": "code",
   "execution_count": 8,
   "metadata": {},
   "outputs": [],
   "source": [
    "test['match'] = test['homeTeam'] + '-' + test['awayTeam']\n",
    "test_with_stats = test.merge(pair_stats, on='match', how='left')\n",
    "test_with_stats.fillna(pair_stats[stats_columns].mean(), inplace=True) # pair_stats mean"
   ]
  },
  {
   "cell_type": "markdown",
   "metadata": {},
   "source": [
    "### Data Preprocessing 3 : Select x, y"
   ]
  },
  {
   "cell_type": "code",
   "execution_count": 9,
   "metadata": {},
   "outputs": [],
   "source": [
    "train_x = train.drop(columns=['matchID', 'goals(homeTeam)', 'goals(awayTeam)', 'result'])\n",
    "train_y = train['result']\n",
    "\n",
    "test_x = test_with_stats.drop(columns=['matchID'])\n",
    "test_x = test_x[train_x.columns]"
   ]
  },
  {
   "cell_type": "markdown",
   "metadata": {},
   "source": [
    "### Data Preprocessing 4 : Label Encoding"
   ]
  },
  {
   "cell_type": "code",
   "execution_count": 10,
   "metadata": {},
   "outputs": [],
   "source": [
    "from sklearn.preprocessing import LabelEncoder\n",
    "\n",
    "encoding_target = list(train_x.dtypes[train_x.dtypes == \"object\"].index)\n",
    "\n",
    "for i in encoding_target:\n",
    "    le = LabelEncoder()\n",
    "    le.fit(train_x[i])\n",
    "    train_x[i] = le.transform(train_x[i])\n",
    "    \n",
    "    # test 데이터의 새로운 카테고리에 대해 le.classes_ 배열에 추가\n",
    "    for case in np.unique(test_x[i]):\n",
    "        if case not in le.classes_: \n",
    "            le.classes_ = np.append(le.classes_, case)\n",
    "    \n",
    "    test_x[i] = le.transform(test_x[i])"
   ]
  },
  {
   "cell_type": "markdown",
   "metadata": {},
   "source": [
    "### Model Setting"
   ]
  },
  {
   "cell_type": "code",
   "execution_count": 11,
   "metadata": {},
   "outputs": [],
   "source": [
    "model = LogisticRegression(max_iter=100,\n",
    "                           penalty='l2',\n",
    "                           C=1.0)"
   ]
  },
  {
   "cell_type": "markdown",
   "metadata": {},
   "source": [
    "### Model Train and Inference"
   ]
  },
  {
   "cell_type": "code",
   "execution_count": 12,
   "metadata": {},
   "outputs": [
    {
     "data": {
      "text/plain": [
       "array(['A', 'D', 'H'], dtype=object)"
      ]
     },
     "metadata": {},
     "output_type": "display_data"
    },
    {
     "data": {
      "text/plain": [
       "array([[0.29722315, 0.24675809, 0.45601876],\n",
       "       [0.2648828 , 0.24670025, 0.48841694],\n",
       "       [0.33289017, 0.2452336 , 0.42187623],\n",
       "       [0.33152879, 0.24532218, 0.42314903],\n",
       "       [0.25432   , 0.24634569, 0.49933431],\n",
       "       [0.25784276, 0.24648413, 0.49567311],\n",
       "       [0.2681867 , 0.2467681 , 0.4850452 ],\n",
       "       [0.32723978, 0.24557817, 0.42718205],\n",
       "       [0.29240865, 0.24684172, 0.46074964],\n",
       "       [0.27461579, 0.24687169, 0.47851252],\n",
       "       [0.33277222, 0.24524221, 0.42198557],\n",
       "       [0.26902075, 0.24679624, 0.484183  ],\n",
       "       [0.33310604, 0.24521912, 0.42167484],\n",
       "       [0.2834218 , 0.24690947, 0.46966872],\n",
       "       [0.32681354, 0.24561177, 0.4275747 ],\n",
       "       [0.30360457, 0.24659976, 0.44979568],\n",
       "       [0.26431146, 0.2466917 , 0.48899684],\n",
       "       [0.2737302 , 0.24686588, 0.47940391],\n",
       "       [0.30603782, 0.24654158, 0.44742059],\n",
       "       [0.3117666 , 0.2463316 , 0.4419018 ],\n",
       "       [0.333307  , 0.24521167, 0.42148133],\n",
       "       [0.25805476, 0.24649425, 0.49545099],\n",
       "       [0.26692155, 0.24675069, 0.48632776],\n",
       "       [0.29164609, 0.24685869, 0.46149523],\n",
       "       [0.29419714, 0.24682788, 0.45897497],\n",
       "       [0.30233665, 0.24663801, 0.45102534],\n",
       "       [0.3061474 , 0.24653014, 0.44732247],\n",
       "       [0.26427144, 0.24669091, 0.48903765],\n",
       "       [0.27037522, 0.24680919, 0.48281559],\n",
       "       [0.3287758 , 0.24548232, 0.42574189],\n",
       "       [0.33270664, 0.24524406, 0.4220493 ],\n",
       "       [0.26645396, 0.24674951, 0.48679653],\n",
       "       [0.29422025, 0.2468172 , 0.45896255],\n",
       "       [0.29287253, 0.24682806, 0.4602994 ],\n",
       "       [0.2744888 , 0.24687226, 0.47863895],\n",
       "       [0.27730687, 0.24690591, 0.47578722],\n",
       "       [0.27987168, 0.24691002, 0.4732183 ],\n",
       "       [0.33299227, 0.24523233, 0.4217754 ],\n",
       "       [0.28291546, 0.24691453, 0.47017002],\n",
       "       [0.33263369, 0.24523926, 0.42212705],\n",
       "       [0.2564047 , 0.2464369 , 0.4971584 ],\n",
       "       [0.26739253, 0.2467677 , 0.48583978],\n",
       "       [0.29758181, 0.24675451, 0.45566367],\n",
       "       [0.31163892, 0.2463387 , 0.44202238],\n",
       "       [0.32206318, 0.24585553, 0.43208128],\n",
       "       [0.30346345, 0.24660208, 0.44993448],\n",
       "       [0.33280799, 0.24523646, 0.42195556],\n",
       "       [0.30665888, 0.2465007 , 0.44684042],\n",
       "       [0.33317196, 0.24521642, 0.42161163],\n",
       "       [0.2690702 , 0.24679968, 0.48413012],\n",
       "       [0.26468514, 0.24669869, 0.48861618],\n",
       "       [0.32765852, 0.24555574, 0.42678575],\n",
       "       [0.2919167 , 0.24684832, 0.46123498],\n",
       "       [0.25402518, 0.24634207, 0.49963275],\n",
       "       [0.27401358, 0.24686793, 0.47911848],\n",
       "       [0.33304622, 0.24523164, 0.42172214],\n",
       "       [0.3115187 , 0.24634189, 0.44213942],\n",
       "       [0.33079464, 0.24537781, 0.42382755],\n",
       "       [0.28086715, 0.24690925, 0.4722236 ],\n",
       "       [0.25632242, 0.24643789, 0.4972397 ],\n",
       "       [0.27801456, 0.24690079, 0.47508465],\n",
       "       [0.28265297, 0.24692166, 0.47042537],\n",
       "       [0.25458692, 0.24637132, 0.49904176],\n",
       "       [0.33108719, 0.2453591 , 0.42355372],\n",
       "       [0.28052369, 0.24692309, 0.47255322],\n",
       "       [0.27741466, 0.24690229, 0.47568305],\n",
       "       [0.29809083, 0.24673826, 0.45517091],\n",
       "       [0.26808321, 0.24678149, 0.48513529],\n",
       "       [0.32799435, 0.24554139, 0.42646426],\n",
       "       [0.28226672, 0.24692433, 0.47080894],\n",
       "       [0.30321885, 0.24661408, 0.45016706],\n",
       "       [0.33336655, 0.24520711, 0.42142635],\n",
       "       [0.29687676, 0.24676769, 0.45635555],\n",
       "       [0.27982323, 0.24692289, 0.47325388],\n",
       "       [0.25666089, 0.24645516, 0.49688395],\n",
       "       [0.26410955, 0.24669318, 0.48919728],\n",
       "       [0.32053108, 0.24595084, 0.43351807],\n",
       "       [0.30644046, 0.24653051, 0.44702903],\n",
       "       [0.27524608, 0.24686811, 0.47788581],\n",
       "       [0.29626719, 0.24676375, 0.45696906],\n",
       "       [0.26742134, 0.24676862, 0.48581005],\n",
       "       [0.27733148, 0.24690124, 0.47576727],\n",
       "       [0.25425008, 0.24634818, 0.49940174],\n",
       "       [0.33322452, 0.24520858, 0.4215669 ],\n",
       "       [0.33307669, 0.24522297, 0.42170034],\n",
       "       [0.26973965, 0.24680332, 0.48345703],\n",
       "       [0.26664359, 0.24674437, 0.48661203],\n",
       "       [0.29311874, 0.24682391, 0.46005736]])"
      ]
     },
     "metadata": {},
     "output_type": "display_data"
    }
   ],
   "source": [
    "model.fit(train_x, train_y) \n",
    "prediction = model.predict_proba(test_x)\n",
    "\n",
    "display(model.classes_)\n",
    "display(prediction)"
   ]
  },
  {
   "cell_type": "markdown",
   "metadata": {},
   "source": [
    "### Submission"
   ]
  },
  {
   "cell_type": "code",
   "execution_count": 13,
   "metadata": {},
   "outputs": [
    {
     "data": {
      "text/html": [
       "<div>\n",
       "<style scoped>\n",
       "    .dataframe tbody tr th:only-of-type {\n",
       "        vertical-align: middle;\n",
       "    }\n",
       "\n",
       "    .dataframe tbody tr th {\n",
       "        vertical-align: top;\n",
       "    }\n",
       "\n",
       "    .dataframe thead th {\n",
       "        text-align: right;\n",
       "    }\n",
       "</style>\n",
       "<table border=\"1\" class=\"dataframe\">\n",
       "  <thead>\n",
       "    <tr style=\"text-align: right;\">\n",
       "      <th></th>\n",
       "      <th>matchID</th>\n",
       "      <th>A</th>\n",
       "      <th>D</th>\n",
       "      <th>H</th>\n",
       "    </tr>\n",
       "  </thead>\n",
       "  <tbody>\n",
       "    <tr>\n",
       "      <th>0</th>\n",
       "      <td>MATCH_9008</td>\n",
       "      <td>0</td>\n",
       "      <td>1</td>\n",
       "      <td>0</td>\n",
       "    </tr>\n",
       "    <tr>\n",
       "      <th>1</th>\n",
       "      <td>MATCH_9009</td>\n",
       "      <td>0</td>\n",
       "      <td>1</td>\n",
       "      <td>0</td>\n",
       "    </tr>\n",
       "    <tr>\n",
       "      <th>2</th>\n",
       "      <td>MATCH_9010</td>\n",
       "      <td>0</td>\n",
       "      <td>1</td>\n",
       "      <td>0</td>\n",
       "    </tr>\n",
       "    <tr>\n",
       "      <th>3</th>\n",
       "      <td>MATCH_9011</td>\n",
       "      <td>0</td>\n",
       "      <td>1</td>\n",
       "      <td>0</td>\n",
       "    </tr>\n",
       "    <tr>\n",
       "      <th>4</th>\n",
       "      <td>MATCH_9012</td>\n",
       "      <td>0</td>\n",
       "      <td>1</td>\n",
       "      <td>0</td>\n",
       "    </tr>\n",
       "    <tr>\n",
       "      <th>...</th>\n",
       "      <td>...</td>\n",
       "      <td>...</td>\n",
       "      <td>...</td>\n",
       "      <td>...</td>\n",
       "    </tr>\n",
       "    <tr>\n",
       "      <th>83</th>\n",
       "      <td>MATCH_9091</td>\n",
       "      <td>0</td>\n",
       "      <td>1</td>\n",
       "      <td>0</td>\n",
       "    </tr>\n",
       "    <tr>\n",
       "      <th>84</th>\n",
       "      <td>MATCH_9092</td>\n",
       "      <td>0</td>\n",
       "      <td>1</td>\n",
       "      <td>0</td>\n",
       "    </tr>\n",
       "    <tr>\n",
       "      <th>85</th>\n",
       "      <td>MATCH_9093</td>\n",
       "      <td>0</td>\n",
       "      <td>1</td>\n",
       "      <td>0</td>\n",
       "    </tr>\n",
       "    <tr>\n",
       "      <th>86</th>\n",
       "      <td>MATCH_9094</td>\n",
       "      <td>0</td>\n",
       "      <td>1</td>\n",
       "      <td>0</td>\n",
       "    </tr>\n",
       "    <tr>\n",
       "      <th>87</th>\n",
       "      <td>MATCH_9095</td>\n",
       "      <td>0</td>\n",
       "      <td>1</td>\n",
       "      <td>0</td>\n",
       "    </tr>\n",
       "  </tbody>\n",
       "</table>\n",
       "<p>88 rows × 4 columns</p>\n",
       "</div>"
      ],
      "text/plain": [
       "       matchID  A  D  H\n",
       "0   MATCH_9008  0  1  0\n",
       "1   MATCH_9009  0  1  0\n",
       "2   MATCH_9010  0  1  0\n",
       "3   MATCH_9011  0  1  0\n",
       "4   MATCH_9012  0  1  0\n",
       "..         ... .. .. ..\n",
       "83  MATCH_9091  0  1  0\n",
       "84  MATCH_9092  0  1  0\n",
       "85  MATCH_9093  0  1  0\n",
       "86  MATCH_9094  0  1  0\n",
       "87  MATCH_9095  0  1  0\n",
       "\n",
       "[88 rows x 4 columns]"
      ]
     },
     "execution_count": 13,
     "metadata": {},
     "output_type": "execute_result"
    }
   ],
   "source": [
    "sample_submission = pd.read_csv('sample_submission.csv')\n",
    "sample_submission"
   ]
  },
  {
   "cell_type": "code",
   "execution_count": 14,
   "metadata": {},
   "outputs": [
    {
     "data": {
      "text/html": [
       "<div>\n",
       "<style scoped>\n",
       "    .dataframe tbody tr th:only-of-type {\n",
       "        vertical-align: middle;\n",
       "    }\n",
       "\n",
       "    .dataframe tbody tr th {\n",
       "        vertical-align: top;\n",
       "    }\n",
       "\n",
       "    .dataframe thead th {\n",
       "        text-align: right;\n",
       "    }\n",
       "</style>\n",
       "<table border=\"1\" class=\"dataframe\">\n",
       "  <thead>\n",
       "    <tr style=\"text-align: right;\">\n",
       "      <th></th>\n",
       "      <th>matchID</th>\n",
       "      <th>A</th>\n",
       "      <th>D</th>\n",
       "      <th>H</th>\n",
       "    </tr>\n",
       "  </thead>\n",
       "  <tbody>\n",
       "    <tr>\n",
       "      <th>0</th>\n",
       "      <td>MATCH_9008</td>\n",
       "      <td>0.297223</td>\n",
       "      <td>0.246758</td>\n",
       "      <td>0.456019</td>\n",
       "    </tr>\n",
       "    <tr>\n",
       "      <th>1</th>\n",
       "      <td>MATCH_9009</td>\n",
       "      <td>0.264883</td>\n",
       "      <td>0.246700</td>\n",
       "      <td>0.488417</td>\n",
       "    </tr>\n",
       "    <tr>\n",
       "      <th>2</th>\n",
       "      <td>MATCH_9010</td>\n",
       "      <td>0.332890</td>\n",
       "      <td>0.245234</td>\n",
       "      <td>0.421876</td>\n",
       "    </tr>\n",
       "    <tr>\n",
       "      <th>3</th>\n",
       "      <td>MATCH_9011</td>\n",
       "      <td>0.331529</td>\n",
       "      <td>0.245322</td>\n",
       "      <td>0.423149</td>\n",
       "    </tr>\n",
       "    <tr>\n",
       "      <th>4</th>\n",
       "      <td>MATCH_9012</td>\n",
       "      <td>0.254320</td>\n",
       "      <td>0.246346</td>\n",
       "      <td>0.499334</td>\n",
       "    </tr>\n",
       "    <tr>\n",
       "      <th>...</th>\n",
       "      <td>...</td>\n",
       "      <td>...</td>\n",
       "      <td>...</td>\n",
       "      <td>...</td>\n",
       "    </tr>\n",
       "    <tr>\n",
       "      <th>83</th>\n",
       "      <td>MATCH_9091</td>\n",
       "      <td>0.333225</td>\n",
       "      <td>0.245209</td>\n",
       "      <td>0.421567</td>\n",
       "    </tr>\n",
       "    <tr>\n",
       "      <th>84</th>\n",
       "      <td>MATCH_9092</td>\n",
       "      <td>0.333077</td>\n",
       "      <td>0.245223</td>\n",
       "      <td>0.421700</td>\n",
       "    </tr>\n",
       "    <tr>\n",
       "      <th>85</th>\n",
       "      <td>MATCH_9093</td>\n",
       "      <td>0.269740</td>\n",
       "      <td>0.246803</td>\n",
       "      <td>0.483457</td>\n",
       "    </tr>\n",
       "    <tr>\n",
       "      <th>86</th>\n",
       "      <td>MATCH_9094</td>\n",
       "      <td>0.266644</td>\n",
       "      <td>0.246744</td>\n",
       "      <td>0.486612</td>\n",
       "    </tr>\n",
       "    <tr>\n",
       "      <th>87</th>\n",
       "      <td>MATCH_9095</td>\n",
       "      <td>0.293119</td>\n",
       "      <td>0.246824</td>\n",
       "      <td>0.460057</td>\n",
       "    </tr>\n",
       "  </tbody>\n",
       "</table>\n",
       "<p>88 rows × 4 columns</p>\n",
       "</div>"
      ],
      "text/plain": [
       "       matchID         A         D         H\n",
       "0   MATCH_9008  0.297223  0.246758  0.456019\n",
       "1   MATCH_9009  0.264883  0.246700  0.488417\n",
       "2   MATCH_9010  0.332890  0.245234  0.421876\n",
       "3   MATCH_9011  0.331529  0.245322  0.423149\n",
       "4   MATCH_9012  0.254320  0.246346  0.499334\n",
       "..         ...       ...       ...       ...\n",
       "83  MATCH_9091  0.333225  0.245209  0.421567\n",
       "84  MATCH_9092  0.333077  0.245223  0.421700\n",
       "85  MATCH_9093  0.269740  0.246803  0.483457\n",
       "86  MATCH_9094  0.266644  0.246744  0.486612\n",
       "87  MATCH_9095  0.293119  0.246824  0.460057\n",
       "\n",
       "[88 rows x 4 columns]"
      ]
     },
     "execution_count": 14,
     "metadata": {},
     "output_type": "execute_result"
    }
   ],
   "source": [
    "sample_submission.iloc[:,1:] = prediction\n",
    "sample_submission"
   ]
  },
  {
   "cell_type": "code",
   "execution_count": 15,
   "metadata": {},
   "outputs": [],
   "source": [
    "sample_submission.to_csv('baseline_submission.csv', index=False)"
   ]
  }
 ],
 "metadata": {
  "kernelspec": {
   "display_name": "kelly",
   "language": "python",
   "name": "python3"
  },
  "language_info": {
   "codemirror_mode": {
    "name": "ipython",
    "version": 3
   },
   "file_extension": ".py",
   "mimetype": "text/x-python",
   "name": "python",
   "nbconvert_exporter": "python",
   "pygments_lexer": "ipython3",
   "version": "3.8.18"
  }
 },
 "nbformat": 4,
 "nbformat_minor": 2
}
